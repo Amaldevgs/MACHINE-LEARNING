{
 "cells": [
  {
   "cell_type": "markdown",
   "id": "bcb34686-65a2-45b3-ba68-cae8b6b64018",
   "metadata": {},
   "source": [
    "#1. Loading and Preprocessing"
   ]
  },
  {
   "cell_type": "markdown",
   "id": "161ba61c-6968-4152-a131-7041b1809518",
   "metadata": {},
   "source": [
    "1.Loading the dataset"
   ]
  },
  {
   "cell_type": "code",
   "execution_count": 1,
   "id": "43776460-4cc3-4aa9-a70f-a7628b616eae",
   "metadata": {},
   "outputs": [],
   "source": [
    "from sklearn.datasets import fetch_california_housing\n",
    "import pandas as pd"
   ]
  },
  {
   "cell_type": "code",
   "execution_count": 3,
   "id": "10dd5e80-14a0-465a-8015-fd0bbac6937b",
   "metadata": {},
   "outputs": [
    {
     "data": {
      "text/plain": [
       "{'data': array([[   8.3252    ,   41.        ,    6.98412698, ...,    2.55555556,\n",
       "           37.88      , -122.23      ],\n",
       "        [   8.3014    ,   21.        ,    6.23813708, ...,    2.10984183,\n",
       "           37.86      , -122.22      ],\n",
       "        [   7.2574    ,   52.        ,    8.28813559, ...,    2.80225989,\n",
       "           37.85      , -122.24      ],\n",
       "        ...,\n",
       "        [   1.7       ,   17.        ,    5.20554273, ...,    2.3256351 ,\n",
       "           39.43      , -121.22      ],\n",
       "        [   1.8672    ,   18.        ,    5.32951289, ...,    2.12320917,\n",
       "           39.43      , -121.32      ],\n",
       "        [   2.3886    ,   16.        ,    5.25471698, ...,    2.61698113,\n",
       "           39.37      , -121.24      ]]),\n",
       " 'target': array([4.526, 3.585, 3.521, ..., 0.923, 0.847, 0.894]),\n",
       " 'frame': None,\n",
       " 'target_names': ['MedHouseVal'],\n",
       " 'feature_names': ['MedInc',\n",
       "  'HouseAge',\n",
       "  'AveRooms',\n",
       "  'AveBedrms',\n",
       "  'Population',\n",
       "  'AveOccup',\n",
       "  'Latitude',\n",
       "  'Longitude'],\n",
       " 'DESCR': '.. _california_housing_dataset:\\n\\nCalifornia Housing dataset\\n--------------------------\\n\\n**Data Set Characteristics:**\\n\\n:Number of Instances: 20640\\n\\n:Number of Attributes: 8 numeric, predictive attributes and the target\\n\\n:Attribute Information:\\n    - MedInc        median income in block group\\n    - HouseAge      median house age in block group\\n    - AveRooms      average number of rooms per household\\n    - AveBedrms     average number of bedrooms per household\\n    - Population    block group population\\n    - AveOccup      average number of household members\\n    - Latitude      block group latitude\\n    - Longitude     block group longitude\\n\\n:Missing Attribute Values: None\\n\\nThis dataset was obtained from the StatLib repository.\\nhttps://www.dcc.fc.up.pt/~ltorgo/Regression/cal_housing.html\\n\\nThe target variable is the median house value for California districts,\\nexpressed in hundreds of thousands of dollars ($100,000).\\n\\nThis dataset was derived from the 1990 U.S. census, using one row per census\\nblock group. A block group is the smallest geographical unit for which the U.S.\\nCensus Bureau publishes sample data (a block group typically has a population\\nof 600 to 3,000 people).\\n\\nA household is a group of people residing within a home. Since the average\\nnumber of rooms and bedrooms in this dataset are provided per household, these\\ncolumns may take surprisingly large values for block groups with few households\\nand many empty houses, such as vacation resorts.\\n\\nIt can be downloaded/loaded using the\\n:func:`sklearn.datasets.fetch_california_housing` function.\\n\\n.. rubric:: References\\n\\n- Pace, R. Kelley and Ronald Barry, Sparse Spatial Autoregressions,\\n  Statistics and Probability Letters, 33 (1997) 291-297\\n'}"
      ]
     },
     "execution_count": 3,
     "metadata": {},
     "output_type": "execute_result"
    }
   ],
   "source": [
    "# To load dataset\n",
    "data=fetch_california_housing()\n",
    "data"
   ]
  },
  {
   "cell_type": "markdown",
   "id": "2cedb621-49e7-4651-8b34-b6f95eb0a273",
   "metadata": {},
   "source": [
    "2.Convert to a Pandas DataFrame"
   ]
  },
  {
   "cell_type": "code",
   "execution_count": 5,
   "id": "18f015a3-99a3-4623-b17a-93d9a16d88c8",
   "metadata": {},
   "outputs": [
    {
     "data": {
      "text/html": [
       "<div>\n",
       "<style scoped>\n",
       "    .dataframe tbody tr th:only-of-type {\n",
       "        vertical-align: middle;\n",
       "    }\n",
       "\n",
       "    .dataframe tbody tr th {\n",
       "        vertical-align: top;\n",
       "    }\n",
       "\n",
       "    .dataframe thead th {\n",
       "        text-align: right;\n",
       "    }\n",
       "</style>\n",
       "<table border=\"1\" class=\"dataframe\">\n",
       "  <thead>\n",
       "    <tr style=\"text-align: right;\">\n",
       "      <th></th>\n",
       "      <th>MedInc</th>\n",
       "      <th>HouseAge</th>\n",
       "      <th>AveRooms</th>\n",
       "      <th>AveBedrms</th>\n",
       "      <th>Population</th>\n",
       "      <th>AveOccup</th>\n",
       "      <th>Latitude</th>\n",
       "      <th>Longitude</th>\n",
       "      <th>MedHouseValue</th>\n",
       "    </tr>\n",
       "  </thead>\n",
       "  <tbody>\n",
       "    <tr>\n",
       "      <th>0</th>\n",
       "      <td>8.3252</td>\n",
       "      <td>41.0</td>\n",
       "      <td>6.984127</td>\n",
       "      <td>1.023810</td>\n",
       "      <td>322.0</td>\n",
       "      <td>2.555556</td>\n",
       "      <td>37.88</td>\n",
       "      <td>-122.23</td>\n",
       "      <td>4.526</td>\n",
       "    </tr>\n",
       "    <tr>\n",
       "      <th>1</th>\n",
       "      <td>8.3014</td>\n",
       "      <td>21.0</td>\n",
       "      <td>6.238137</td>\n",
       "      <td>0.971880</td>\n",
       "      <td>2401.0</td>\n",
       "      <td>2.109842</td>\n",
       "      <td>37.86</td>\n",
       "      <td>-122.22</td>\n",
       "      <td>3.585</td>\n",
       "    </tr>\n",
       "    <tr>\n",
       "      <th>2</th>\n",
       "      <td>7.2574</td>\n",
       "      <td>52.0</td>\n",
       "      <td>8.288136</td>\n",
       "      <td>1.073446</td>\n",
       "      <td>496.0</td>\n",
       "      <td>2.802260</td>\n",
       "      <td>37.85</td>\n",
       "      <td>-122.24</td>\n",
       "      <td>3.521</td>\n",
       "    </tr>\n",
       "    <tr>\n",
       "      <th>3</th>\n",
       "      <td>5.6431</td>\n",
       "      <td>52.0</td>\n",
       "      <td>5.817352</td>\n",
       "      <td>1.073059</td>\n",
       "      <td>558.0</td>\n",
       "      <td>2.547945</td>\n",
       "      <td>37.85</td>\n",
       "      <td>-122.25</td>\n",
       "      <td>3.413</td>\n",
       "    </tr>\n",
       "    <tr>\n",
       "      <th>4</th>\n",
       "      <td>3.8462</td>\n",
       "      <td>52.0</td>\n",
       "      <td>6.281853</td>\n",
       "      <td>1.081081</td>\n",
       "      <td>565.0</td>\n",
       "      <td>2.181467</td>\n",
       "      <td>37.85</td>\n",
       "      <td>-122.25</td>\n",
       "      <td>3.422</td>\n",
       "    </tr>\n",
       "    <tr>\n",
       "      <th>...</th>\n",
       "      <td>...</td>\n",
       "      <td>...</td>\n",
       "      <td>...</td>\n",
       "      <td>...</td>\n",
       "      <td>...</td>\n",
       "      <td>...</td>\n",
       "      <td>...</td>\n",
       "      <td>...</td>\n",
       "      <td>...</td>\n",
       "    </tr>\n",
       "    <tr>\n",
       "      <th>20635</th>\n",
       "      <td>1.5603</td>\n",
       "      <td>25.0</td>\n",
       "      <td>5.045455</td>\n",
       "      <td>1.133333</td>\n",
       "      <td>845.0</td>\n",
       "      <td>2.560606</td>\n",
       "      <td>39.48</td>\n",
       "      <td>-121.09</td>\n",
       "      <td>0.781</td>\n",
       "    </tr>\n",
       "    <tr>\n",
       "      <th>20636</th>\n",
       "      <td>2.5568</td>\n",
       "      <td>18.0</td>\n",
       "      <td>6.114035</td>\n",
       "      <td>1.315789</td>\n",
       "      <td>356.0</td>\n",
       "      <td>3.122807</td>\n",
       "      <td>39.49</td>\n",
       "      <td>-121.21</td>\n",
       "      <td>0.771</td>\n",
       "    </tr>\n",
       "    <tr>\n",
       "      <th>20637</th>\n",
       "      <td>1.7000</td>\n",
       "      <td>17.0</td>\n",
       "      <td>5.205543</td>\n",
       "      <td>1.120092</td>\n",
       "      <td>1007.0</td>\n",
       "      <td>2.325635</td>\n",
       "      <td>39.43</td>\n",
       "      <td>-121.22</td>\n",
       "      <td>0.923</td>\n",
       "    </tr>\n",
       "    <tr>\n",
       "      <th>20638</th>\n",
       "      <td>1.8672</td>\n",
       "      <td>18.0</td>\n",
       "      <td>5.329513</td>\n",
       "      <td>1.171920</td>\n",
       "      <td>741.0</td>\n",
       "      <td>2.123209</td>\n",
       "      <td>39.43</td>\n",
       "      <td>-121.32</td>\n",
       "      <td>0.847</td>\n",
       "    </tr>\n",
       "    <tr>\n",
       "      <th>20639</th>\n",
       "      <td>2.3886</td>\n",
       "      <td>16.0</td>\n",
       "      <td>5.254717</td>\n",
       "      <td>1.162264</td>\n",
       "      <td>1387.0</td>\n",
       "      <td>2.616981</td>\n",
       "      <td>39.37</td>\n",
       "      <td>-121.24</td>\n",
       "      <td>0.894</td>\n",
       "    </tr>\n",
       "  </tbody>\n",
       "</table>\n",
       "<p>20640 rows × 9 columns</p>\n",
       "</div>"
      ],
      "text/plain": [
       "       MedInc  HouseAge  AveRooms  AveBedrms  Population  AveOccup  Latitude  \\\n",
       "0      8.3252      41.0  6.984127   1.023810       322.0  2.555556     37.88   \n",
       "1      8.3014      21.0  6.238137   0.971880      2401.0  2.109842     37.86   \n",
       "2      7.2574      52.0  8.288136   1.073446       496.0  2.802260     37.85   \n",
       "3      5.6431      52.0  5.817352   1.073059       558.0  2.547945     37.85   \n",
       "4      3.8462      52.0  6.281853   1.081081       565.0  2.181467     37.85   \n",
       "...       ...       ...       ...        ...         ...       ...       ...   \n",
       "20635  1.5603      25.0  5.045455   1.133333       845.0  2.560606     39.48   \n",
       "20636  2.5568      18.0  6.114035   1.315789       356.0  3.122807     39.49   \n",
       "20637  1.7000      17.0  5.205543   1.120092      1007.0  2.325635     39.43   \n",
       "20638  1.8672      18.0  5.329513   1.171920       741.0  2.123209     39.43   \n",
       "20639  2.3886      16.0  5.254717   1.162264      1387.0  2.616981     39.37   \n",
       "\n",
       "       Longitude  MedHouseValue  \n",
       "0        -122.23          4.526  \n",
       "1        -122.22          3.585  \n",
       "2        -122.24          3.521  \n",
       "3        -122.25          3.413  \n",
       "4        -122.25          3.422  \n",
       "...          ...            ...  \n",
       "20635    -121.09          0.781  \n",
       "20636    -121.21          0.771  \n",
       "20637    -121.22          0.923  \n",
       "20638    -121.32          0.847  \n",
       "20639    -121.24          0.894  \n",
       "\n",
       "[20640 rows x 9 columns]"
      ]
     },
     "execution_count": 5,
     "metadata": {},
     "output_type": "execute_result"
    }
   ],
   "source": [
    "# Convert to DataFrame\n",
    "df = pd.DataFrame(data.data, columns=data.feature_names)\n",
    "\n",
    "# Adding the target variable to the DataFrame\n",
    "df['MedHouseValue']=data.target\n",
    "df"
   ]
  },
  {
   "cell_type": "markdown",
   "id": "e53d0867-effa-4734-a928-0b4903fa81e7",
   "metadata": {},
   "source": [
    "3.Handle Missing Values & Feature Scaling (Standardization)"
   ]
  },
  {
   "cell_type": "code",
   "execution_count": 7,
   "id": "d9a3b8a1-79e6-432a-b2a8-d016279ed139",
   "metadata": {},
   "outputs": [
    {
     "name": "stdout",
     "output_type": "stream",
     "text": [
      "Missing values in the dataset:\n",
      "MedInc           0\n",
      "HouseAge         0\n",
      "AveRooms         0\n",
      "AveBedrms        0\n",
      "Population       0\n",
      "AveOccup         0\n",
      "Latitude         0\n",
      "Longitude        0\n",
      "MedHouseValue    0\n",
      "dtype: int64\n"
     ]
    }
   ],
   "source": [
    "# To check for missing values\n",
    "print(\"Missing values in the dataset:\")\n",
    "print(df.isnull().sum())"
   ]
  },
  {
   "cell_type": "code",
   "execution_count": 9,
   "id": "26378e43-e77b-47b5-ab30-4a65e3ace8a8",
   "metadata": {},
   "outputs": [
    {
     "data": {
      "text/html": [
       "<div>\n",
       "<style scoped>\n",
       "    .dataframe tbody tr th:only-of-type {\n",
       "        vertical-align: middle;\n",
       "    }\n",
       "\n",
       "    .dataframe tbody tr th {\n",
       "        vertical-align: top;\n",
       "    }\n",
       "\n",
       "    .dataframe thead th {\n",
       "        text-align: right;\n",
       "    }\n",
       "</style>\n",
       "<table border=\"1\" class=\"dataframe\">\n",
       "  <thead>\n",
       "    <tr style=\"text-align: right;\">\n",
       "      <th></th>\n",
       "      <th>MedInc</th>\n",
       "      <th>HouseAge</th>\n",
       "      <th>AveRooms</th>\n",
       "      <th>AveBedrms</th>\n",
       "      <th>Population</th>\n",
       "      <th>AveOccup</th>\n",
       "      <th>Latitude</th>\n",
       "      <th>Longitude</th>\n",
       "    </tr>\n",
       "  </thead>\n",
       "  <tbody>\n",
       "    <tr>\n",
       "      <th>0</th>\n",
       "      <td>2.344766</td>\n",
       "      <td>0.982143</td>\n",
       "      <td>0.628559</td>\n",
       "      <td>-0.153758</td>\n",
       "      <td>-0.974429</td>\n",
       "      <td>-0.049597</td>\n",
       "      <td>1.052548</td>\n",
       "      <td>-1.327835</td>\n",
       "    </tr>\n",
       "    <tr>\n",
       "      <th>1</th>\n",
       "      <td>2.332238</td>\n",
       "      <td>-0.607019</td>\n",
       "      <td>0.327041</td>\n",
       "      <td>-0.263336</td>\n",
       "      <td>0.861439</td>\n",
       "      <td>-0.092512</td>\n",
       "      <td>1.043185</td>\n",
       "      <td>-1.322844</td>\n",
       "    </tr>\n",
       "    <tr>\n",
       "      <th>2</th>\n",
       "      <td>1.782699</td>\n",
       "      <td>1.856182</td>\n",
       "      <td>1.155620</td>\n",
       "      <td>-0.049016</td>\n",
       "      <td>-0.820777</td>\n",
       "      <td>-0.025843</td>\n",
       "      <td>1.038503</td>\n",
       "      <td>-1.332827</td>\n",
       "    </tr>\n",
       "    <tr>\n",
       "      <th>3</th>\n",
       "      <td>0.932968</td>\n",
       "      <td>1.856182</td>\n",
       "      <td>0.156966</td>\n",
       "      <td>-0.049833</td>\n",
       "      <td>-0.766028</td>\n",
       "      <td>-0.050329</td>\n",
       "      <td>1.038503</td>\n",
       "      <td>-1.337818</td>\n",
       "    </tr>\n",
       "    <tr>\n",
       "      <th>4</th>\n",
       "      <td>-0.012881</td>\n",
       "      <td>1.856182</td>\n",
       "      <td>0.344711</td>\n",
       "      <td>-0.032906</td>\n",
       "      <td>-0.759847</td>\n",
       "      <td>-0.085616</td>\n",
       "      <td>1.038503</td>\n",
       "      <td>-1.337818</td>\n",
       "    </tr>\n",
       "    <tr>\n",
       "      <th>...</th>\n",
       "      <td>...</td>\n",
       "      <td>...</td>\n",
       "      <td>...</td>\n",
       "      <td>...</td>\n",
       "      <td>...</td>\n",
       "      <td>...</td>\n",
       "      <td>...</td>\n",
       "      <td>...</td>\n",
       "    </tr>\n",
       "    <tr>\n",
       "      <th>20635</th>\n",
       "      <td>-1.216128</td>\n",
       "      <td>-0.289187</td>\n",
       "      <td>-0.155023</td>\n",
       "      <td>0.077354</td>\n",
       "      <td>-0.512592</td>\n",
       "      <td>-0.049110</td>\n",
       "      <td>1.801647</td>\n",
       "      <td>-0.758826</td>\n",
       "    </tr>\n",
       "    <tr>\n",
       "      <th>20636</th>\n",
       "      <td>-0.691593</td>\n",
       "      <td>-0.845393</td>\n",
       "      <td>0.276881</td>\n",
       "      <td>0.462365</td>\n",
       "      <td>-0.944405</td>\n",
       "      <td>0.005021</td>\n",
       "      <td>1.806329</td>\n",
       "      <td>-0.818722</td>\n",
       "    </tr>\n",
       "    <tr>\n",
       "      <th>20637</th>\n",
       "      <td>-1.142593</td>\n",
       "      <td>-0.924851</td>\n",
       "      <td>-0.090318</td>\n",
       "      <td>0.049414</td>\n",
       "      <td>-0.369537</td>\n",
       "      <td>-0.071735</td>\n",
       "      <td>1.778237</td>\n",
       "      <td>-0.823713</td>\n",
       "    </tr>\n",
       "    <tr>\n",
       "      <th>20638</th>\n",
       "      <td>-1.054583</td>\n",
       "      <td>-0.845393</td>\n",
       "      <td>-0.040211</td>\n",
       "      <td>0.158778</td>\n",
       "      <td>-0.604429</td>\n",
       "      <td>-0.091225</td>\n",
       "      <td>1.778237</td>\n",
       "      <td>-0.873626</td>\n",
       "    </tr>\n",
       "    <tr>\n",
       "      <th>20639</th>\n",
       "      <td>-0.780129</td>\n",
       "      <td>-1.004309</td>\n",
       "      <td>-0.070443</td>\n",
       "      <td>0.138403</td>\n",
       "      <td>-0.033977</td>\n",
       "      <td>-0.043682</td>\n",
       "      <td>1.750146</td>\n",
       "      <td>-0.833696</td>\n",
       "    </tr>\n",
       "  </tbody>\n",
       "</table>\n",
       "<p>20640 rows × 8 columns</p>\n",
       "</div>"
      ],
      "text/plain": [
       "         MedInc  HouseAge  AveRooms  AveBedrms  Population  AveOccup  \\\n",
       "0      2.344766  0.982143  0.628559  -0.153758   -0.974429 -0.049597   \n",
       "1      2.332238 -0.607019  0.327041  -0.263336    0.861439 -0.092512   \n",
       "2      1.782699  1.856182  1.155620  -0.049016   -0.820777 -0.025843   \n",
       "3      0.932968  1.856182  0.156966  -0.049833   -0.766028 -0.050329   \n",
       "4     -0.012881  1.856182  0.344711  -0.032906   -0.759847 -0.085616   \n",
       "...         ...       ...       ...        ...         ...       ...   \n",
       "20635 -1.216128 -0.289187 -0.155023   0.077354   -0.512592 -0.049110   \n",
       "20636 -0.691593 -0.845393  0.276881   0.462365   -0.944405  0.005021   \n",
       "20637 -1.142593 -0.924851 -0.090318   0.049414   -0.369537 -0.071735   \n",
       "20638 -1.054583 -0.845393 -0.040211   0.158778   -0.604429 -0.091225   \n",
       "20639 -0.780129 -1.004309 -0.070443   0.138403   -0.033977 -0.043682   \n",
       "\n",
       "       Latitude  Longitude  \n",
       "0      1.052548  -1.327835  \n",
       "1      1.043185  -1.322844  \n",
       "2      1.038503  -1.332827  \n",
       "3      1.038503  -1.337818  \n",
       "4      1.038503  -1.337818  \n",
       "...         ...        ...  \n",
       "20635  1.801647  -0.758826  \n",
       "20636  1.806329  -0.818722  \n",
       "20637  1.778237  -0.823713  \n",
       "20638  1.778237  -0.873626  \n",
       "20639  1.750146  -0.833696  \n",
       "\n",
       "[20640 rows x 8 columns]"
      ]
     },
     "execution_count": 9,
     "metadata": {},
     "output_type": "execute_result"
    }
   ],
   "source": [
    "# Feature Scaling using StandardScaler\n",
    "from sklearn.preprocessing import StandardScaler\n",
    "scaler = StandardScaler()\n",
    "X = df.drop('MedHouseValue', axis=1)\n",
    "y = df['MedHouseValue']\n",
    "X_scaled = scaler.fit_transform(X)\n",
    "X_scaled_df = pd.DataFrame(X_scaled, columns=X.columns)\n",
    "X_scaled_df"
   ]
  },
  {
   "cell_type": "markdown",
   "id": "4a79b9c9-e922-45cb-a7d7-429b3ff9f8e0",
   "metadata": {},
   "source": [
    "4.Explaination for the preprocessing steps done"
   ]
  },
  {
   "cell_type": "markdown",
   "id": "2a4e620c-e9f2-46e9-8371-662497a6a316",
   "metadata": {},
   "source": [
    "Using fetch_california_housing() from sklearn.datasets for loading a real-world housing dataset that includes various features about California districts and their median house prices.Then converted the dataset to a pandas DataFrame for simplifing data analysis, visualization, and preprocessing tasks such as checking for null values or applying transformations.Then, I checked for missing values using df.isnull().sum(). Although this dataset typically contains no missing values. This step is crucial in any real-world scenario. Missing values can lead to inaccurate model training or runtime errors, so detecting and handling them ensures data quality and reliability.Then I applied standardization using StandardScaler from sklearn.preprocessing to scale all features so they have a mean of 0 and a standard deviation of 1. This step is important because the features are on different scales.Standardization ensures that all features contribute equally to the model training process and helps the model converge more efficiently."
   ]
  },
  {
   "cell_type": "markdown",
   "id": "645b0c9e-2ef4-4eae-8af3-da59fabad5f5",
   "metadata": {},
   "source": [
    "# 2.Regression Algorithm Implementation"
   ]
  },
  {
   "cell_type": "code",
   "execution_count": 11,
   "id": "5eb17e65-bc63-40bc-ae03-cdb25e747dc7",
   "metadata": {},
   "outputs": [],
   "source": [
    "from sklearn.model_selection import train_test_split\n",
    "X_train, X_test, y_train, y_test = train_test_split(X_scaled, y, test_size=0.2, random_state=42)\n",
    "\n",
    "from sklearn.metrics import mean_squared_error, r2_score\n",
    "import numpy as np\n",
    "\n",
    "def evaluate_model(model, X_test, y_test):\n",
    "    y_pred = model.predict(X_test)\n",
    "    rmse = np.sqrt(mean_squared_error(y_test, y_pred))\n",
    "    r2 = r2_score(y_test, y_pred)\n",
    "    print(f\"RMSE: {rmse:.4f}\")\n",
    "    print(f\"R² Score: {r2:.4f}\")"
   ]
  },
  {
   "cell_type": "markdown",
   "id": "1b4ba747-fc67-43af-b272-3f0851f800f1",
   "metadata": {},
   "source": [
    "1.Linear Regression"
   ]
  },
  {
   "cell_type": "code",
   "execution_count": 13,
   "id": "5ce19aee-d094-47a4-ac87-9db28e84a8ee",
   "metadata": {},
   "outputs": [
    {
     "name": "stdout",
     "output_type": "stream",
     "text": [
      "Linear Regression:\n",
      "RMSE: 0.7456\n",
      "R² Score: 0.5758\n"
     ]
    }
   ],
   "source": [
    "from sklearn.linear_model import LinearRegression\n",
    "lr = LinearRegression()\n",
    "lr.fit(X_train, y_train)\n",
    "print(\"Linear Regression:\")\n",
    "evaluate_model(lr, X_test, y_test)"
   ]
  },
  {
   "cell_type": "markdown",
   "id": "f9e1594c-887e-4897-97c4-0dd03a9024c2",
   "metadata": {},
   "source": [
    "2.Decision Tree Regressor"
   ]
  },
  {
   "cell_type": "code",
   "execution_count": 15,
   "id": "092539ac-d58a-492e-8eda-fcf960f81c9c",
   "metadata": {},
   "outputs": [
    {
     "name": "stdout",
     "output_type": "stream",
     "text": [
      "Decision Tree Regressor:\n",
      "RMSE: 0.7030\n",
      "R² Score: 0.6228\n"
     ]
    }
   ],
   "source": [
    "from sklearn.tree import DecisionTreeRegressor\n",
    "dt = DecisionTreeRegressor(random_state=42)\n",
    "dt.fit(X_train, y_train)\n",
    "print(\"Decision Tree Regressor:\")\n",
    "evaluate_model(dt, X_test, y_test)"
   ]
  },
  {
   "cell_type": "markdown",
   "id": "2044aca1-88ff-47be-806b-e1a286572273",
   "metadata": {},
   "source": [
    "3.Random Forest Regressor"
   ]
  },
  {
   "cell_type": "code",
   "execution_count": 17,
   "id": "e9f792f4-9770-4b31-aca0-500c91d78199",
   "metadata": {},
   "outputs": [
    {
     "name": "stdout",
     "output_type": "stream",
     "text": [
      "Random Forest Regressor:\n",
      "RMSE: 0.5055\n",
      "R² Score: 0.8050\n"
     ]
    }
   ],
   "source": [
    "from sklearn.ensemble import RandomForestRegressor\n",
    "rf = RandomForestRegressor(n_estimators=100, random_state=42)\n",
    "rf.fit(X_train, y_train)\n",
    "print(\"Random Forest Regressor:\")\n",
    "evaluate_model(rf, X_test, y_test)"
   ]
  },
  {
   "cell_type": "markdown",
   "id": "c55fc06b-4144-474a-8682-7838c1cac73d",
   "metadata": {},
   "source": [
    "4.Gradient Boosting Regressor"
   ]
  },
  {
   "cell_type": "code",
   "execution_count": 19,
   "id": "7212c599-2efe-4812-84d7-dff5777d71aa",
   "metadata": {},
   "outputs": [
    {
     "name": "stdout",
     "output_type": "stream",
     "text": [
      "Gradient Boosting Regressor:\n",
      "RMSE: 0.5422\n",
      "R² Score: 0.7756\n"
     ]
    }
   ],
   "source": [
    "from sklearn.ensemble import GradientBoostingRegressor\n",
    "gbr = GradientBoostingRegressor(n_estimators=100, random_state=42)\n",
    "gbr.fit(X_train, y_train)\n",
    "print(\"Gradient Boosting Regressor:\")\n",
    "evaluate_model(gbr, X_test, y_test)"
   ]
  },
  {
   "cell_type": "markdown",
   "id": "66b21a33-cb24-47f6-9efa-71b6bc15c7ff",
   "metadata": {},
   "source": [
    "5.Support Vector Regressor (SVR)"
   ]
  },
  {
   "cell_type": "code",
   "execution_count": 21,
   "id": "3141c060-55e1-4404-ba8a-1348b404ca04",
   "metadata": {},
   "outputs": [
    {
     "name": "stdout",
     "output_type": "stream",
     "text": [
      "Support Vector Regressor:\n",
      "RMSE: 0.5960\n",
      "R² Score: 0.7289\n"
     ]
    }
   ],
   "source": [
    "from sklearn.svm import SVR\n",
    "svr = SVR(kernel='rbf')  \n",
    "svr.fit(X_train, y_train)\n",
    "print(\"Support Vector Regressor:\")\n",
    "evaluate_model(svr, X_test, y_test)"
   ]
  },
  {
   "cell_type": "markdown",
   "id": "2d71ceb2-782d-46fe-b269-888466f63909",
   "metadata": {},
   "source": [
    "6.Explanation and Suitability"
   ]
  },
  {
   "cell_type": "markdown",
   "id": "0e7d4bcc-bd0c-4be9-8039-41763df45670",
   "metadata": {},
   "source": [
    "1.Linear Regression"
   ]
  },
  {
   "cell_type": "markdown",
   "id": "e2219818-68f6-433a-bb68-b9cc1602a911",
   "metadata": {},
   "source": [
    "Linear Regression models the relationship between the independent variables (features) and the target (house value) by fitting a straight line that minimizes the squared difference between actual and predicted values.\n",
    "\n",
    "Linear Regression is suitabie because,it serves as a good baseline model for continuous numerical data. The California Housing dataset has mostly linear trends among some features like median income and house value, making linear regression an effective and interpretable starting point."
   ]
  },
  {
   "cell_type": "markdown",
   "id": "43245c8f-8ed6-4296-8798-271defd5297e",
   "metadata": {},
   "source": [
    "2.Decision Tree Regressor"
   ]
  },
  {
   "cell_type": "markdown",
   "id": "b629123c-8a38-4727-bc76-18daa3faafd1",
   "metadata": {},
   "source": [
    "Splits the data into branches based on feature values to predict the target. Each leaf node represents a predicted value.\n",
    "\n",
    "Decision Tree Regressor is suitable because,it can model non-linear relationships and easy to interpret. Useful for capturing complex patterns that linear models might miss."
   ]
  },
  {
   "cell_type": "markdown",
   "id": "d4af8c0a-41ee-4704-85be-7cbef2278902",
   "metadata": {},
   "source": [
    "3.Random Forest Regressor"
   ]
  },
  {
   "cell_type": "markdown",
   "id": "3a6e2be9-ce12-4313-829f-29fbf838c94a",
   "metadata": {},
   "source": [
    "A Random Forest is an ensemble of Decision Trees trained on random subsets of data and features. Each tree gives a prediction, and the final prediction is the average of all tree outputs to reduce variance.\n",
    "\n",
    "It reduces overfitting compared to a single Decision Tree and performs well on structured/tabular datasets like housing data. It can handle complex relationships and usually provides high accuracy."
   ]
  },
  {
   "cell_type": "markdown",
   "id": "475ecdcc-c2d7-4353-9ffc-ec86c6cd82cd",
   "metadata": {},
   "source": [
    "4.Gradient Boosting Regressor"
   ]
  },
  {
   "cell_type": "markdown",
   "id": "c91f7db6-07bd-4095-a37d-12d6aa4c692b",
   "metadata": {},
   "source": [
    "Gradient Boosting builds trees sequentially, where each new tree is trained to correct the errors of the previous one. It uses gradient descent to minimize the loss function, focusing on difficult-to-predict samples.\n",
    "\n",
    "It is highly effective at modeling complex, non-linear relationships. It's especially good for improving prediction accuracy on datasets like California Housing, with engineered features."
   ]
  },
  {
   "cell_type": "markdown",
   "id": "88e27349-92ff-441e-9c7f-8b95660f2884",
   "metadata": {},
   "source": [
    "5.Support Vector Regressor (SVR)"
   ]
  },
  {
   "cell_type": "markdown",
   "id": "8fd49b55-66bc-4ef6-9832-aa83819b923c",
   "metadata": {},
   "source": [
    "SVR tries to fit the best line within a threshold of error. Uses kernels like RBF to model non-linear data.\n",
    "\n",
    "Good for datasets with complex, non-linear relationships. The RBF kernel helps SVR adapt to the varied nature of housing data."
   ]
  },
  {
   "cell_type": "markdown",
   "id": "ea75a09a-a012-4793-ad21-32ce121e04a2",
   "metadata": {},
   "source": [
    "# 3.Model Evaluation and Comparison"
   ]
  },
  {
   "cell_type": "code",
   "execution_count": 23,
   "id": "47766561-96b6-4016-b1b6-fcf03a04681d",
   "metadata": {},
   "outputs": [],
   "source": [
    "from sklearn.metrics import mean_squared_error, mean_absolute_error, r2_score\n",
    "\n",
    "# Function to evaluate model performance\n",
    "def evaluate_model(model, X_test, y_test):\n",
    "    y_pred = model.predict(X_test)\n",
    "    mse = mean_squared_error(y_test, y_pred)\n",
    "    mae = mean_absolute_error(y_test, y_pred)\n",
    "    r2 = r2_score(y_test, y_pred)\n",
    "    return mse, mae, r2"
   ]
  },
  {
   "cell_type": "code",
   "execution_count": 27,
   "id": "731d5d7c-dbda-493a-ab40-d631d1aeba02",
   "metadata": {},
   "outputs": [
    {
     "data": {
      "text/html": [
       "<div>\n",
       "<style scoped>\n",
       "    .dataframe tbody tr th:only-of-type {\n",
       "        vertical-align: middle;\n",
       "    }\n",
       "\n",
       "    .dataframe tbody tr th {\n",
       "        vertical-align: top;\n",
       "    }\n",
       "\n",
       "    .dataframe thead th {\n",
       "        text-align: right;\n",
       "    }\n",
       "</style>\n",
       "<table border=\"1\" class=\"dataframe\">\n",
       "  <thead>\n",
       "    <tr style=\"text-align: right;\">\n",
       "      <th></th>\n",
       "      <th>MSE</th>\n",
       "      <th>MAE</th>\n",
       "      <th>R2 Score</th>\n",
       "    </tr>\n",
       "  </thead>\n",
       "  <tbody>\n",
       "    <tr>\n",
       "      <th>Random Forest</th>\n",
       "      <td>0.255498</td>\n",
       "      <td>0.327613</td>\n",
       "      <td>0.805024</td>\n",
       "    </tr>\n",
       "    <tr>\n",
       "      <th>Gradient Boosting</th>\n",
       "      <td>0.293999</td>\n",
       "      <td>0.371650</td>\n",
       "      <td>0.775643</td>\n",
       "    </tr>\n",
       "    <tr>\n",
       "      <th>SVR</th>\n",
       "      <td>0.355198</td>\n",
       "      <td>0.397763</td>\n",
       "      <td>0.728941</td>\n",
       "    </tr>\n",
       "    <tr>\n",
       "      <th>Decision Tree</th>\n",
       "      <td>0.494272</td>\n",
       "      <td>0.453784</td>\n",
       "      <td>0.622811</td>\n",
       "    </tr>\n",
       "    <tr>\n",
       "      <th>Linear Regression</th>\n",
       "      <td>0.555892</td>\n",
       "      <td>0.533200</td>\n",
       "      <td>0.575788</td>\n",
       "    </tr>\n",
       "  </tbody>\n",
       "</table>\n",
       "</div>"
      ],
      "text/plain": [
       "                        MSE       MAE  R2 Score\n",
       "Random Forest      0.255498  0.327613  0.805024\n",
       "Gradient Boosting  0.293999  0.371650  0.775643\n",
       "SVR                0.355198  0.397763  0.728941\n",
       "Decision Tree      0.494272  0.453784  0.622811\n",
       "Linear Regression  0.555892  0.533200  0.575788"
      ]
     },
     "execution_count": 27,
     "metadata": {},
     "output_type": "execute_result"
    }
   ],
   "source": [
    "results = {}\n",
    "models = {\n",
    "    \"Linear Regression\": lr,\n",
    "    \"Decision Tree\": dt,\n",
    "    \"Random Forest\": rf,\n",
    "    \"Gradient Boosting\": gbr,\n",
    "    \"SVR\": svr\n",
    "}\n",
    "\n",
    "for name, model in models.items():\n",
    "    mse, mae, r2 = evaluate_model(model, X_test, y_test)\n",
    "    results[name] = {\n",
    "        \"MSE\": mse,\n",
    "        \"MAE\": mae,\n",
    "        \"R2 Score\": r2\n",
    "    }\n",
    "\n",
    "# Converting to DataFrame\n",
    "results_df = pd.DataFrame(results).T\n",
    "results_df = results_df.sort_values(by=\"R2 Score\", ascending=False)\n",
    "results_df"
   ]
  },
  {
   "cell_type": "markdown",
   "id": "bf10ed55-689e-4b65-88b7-61f72a3107db",
   "metadata": {},
   "source": [
    "Best Model:Random Forest Regressor\n",
    "\n",
    "Justification:Random Forest Regressor achieved the lowest MSE and MAE, indicating its predictions were closest to the actual house values.It also had the highest R² Score, showing it explained the most variance in the dataset.Random Forest is an ensemble method that reduces overfitting and captures complex, non-linear relationships, which is ideal for structured datasets like California Housing.\n",
    "\n",
    "Worst Model: Linear Regression\n",
    "\n",
    "Reasoning:It had the highest error values (MSE and MAE) and the lowest R² score among all models.Linear Regression assumes a linear relationship between features and the target, which is too simplistic for this dataset.It fails to capture non-linear interactions between variables like median income, population, and housing age."
   ]
  },
  {
   "cell_type": "code",
   "execution_count": null,
   "id": "bd6c3cc6-27d8-4b22-b907-9e73917ecff8",
   "metadata": {},
   "outputs": [],
   "source": []
  },
  {
   "cell_type": "code",
   "execution_count": null,
   "id": "f418de59-6e8f-44d7-83df-e046f611819c",
   "metadata": {},
   "outputs": [],
   "source": []
  },
  {
   "cell_type": "code",
   "execution_count": null,
   "id": "5aef8e17-74d0-4123-aa78-ee2ad40655bd",
   "metadata": {},
   "outputs": [],
   "source": []
  },
  {
   "cell_type": "code",
   "execution_count": null,
   "id": "37d53d28-2842-428c-8275-087857b663dd",
   "metadata": {},
   "outputs": [],
   "source": []
  },
  {
   "cell_type": "code",
   "execution_count": null,
   "id": "f71a60f1-3e20-4fc4-bf02-e1896ea2acd4",
   "metadata": {},
   "outputs": [],
   "source": []
  },
  {
   "cell_type": "code",
   "execution_count": null,
   "id": "630f5dbc-5ed0-4450-819c-927b507a8b78",
   "metadata": {},
   "outputs": [],
   "source": []
  },
  {
   "cell_type": "code",
   "execution_count": null,
   "id": "9f202c7d-bb84-4353-a03d-6ffdda6584c8",
   "metadata": {},
   "outputs": [],
   "source": []
  },
  {
   "cell_type": "code",
   "execution_count": null,
   "id": "0e23312b-9ca9-472c-a59a-639b22e7a782",
   "metadata": {},
   "outputs": [],
   "source": []
  },
  {
   "cell_type": "code",
   "execution_count": null,
   "id": "d16163d9-828d-4689-8600-8351b9247260",
   "metadata": {},
   "outputs": [],
   "source": []
  }
 ],
 "metadata": {
  "kernelspec": {
   "display_name": "Python [conda env:base] *",
   "language": "python",
   "name": "conda-base-py"
  },
  "language_info": {
   "codemirror_mode": {
    "name": "ipython",
    "version": 3
   },
   "file_extension": ".py",
   "mimetype": "text/x-python",
   "name": "python",
   "nbconvert_exporter": "python",
   "pygments_lexer": "ipython3",
   "version": "3.12.7"
  }
 },
 "nbformat": 4,
 "nbformat_minor": 5
}
