{
 "cells": [
  {
   "cell_type": "markdown",
   "id": "a4a1d560-964a-4f41-8809-ce0ed839d2ce",
   "metadata": {},
   "source": [
    "# 1. Loading and Preprocessing"
   ]
  },
  {
   "cell_type": "code",
   "execution_count": 1,
   "id": "bf3ee12b-c308-46c2-9573-96510f0fa6d8",
   "metadata": {},
   "outputs": [],
   "source": [
    "import numpy as np\n",
    "import pandas as pd\n",
    "from sklearn.datasets import load_breast_cancer\n",
    "from sklearn.model_selection import train_test_split\n",
    "from sklearn.preprocessing import StandardScaler"
   ]
  },
  {
   "cell_type": "code",
   "execution_count": 3,
   "id": "bc4e2a81-bbdd-4cc1-b1b4-90d4289df879",
   "metadata": {},
   "outputs": [
    {
     "data": {
      "text/html": [
       "<div>\n",
       "<style scoped>\n",
       "    .dataframe tbody tr th:only-of-type {\n",
       "        vertical-align: middle;\n",
       "    }\n",
       "\n",
       "    .dataframe tbody tr th {\n",
       "        vertical-align: top;\n",
       "    }\n",
       "\n",
       "    .dataframe thead th {\n",
       "        text-align: right;\n",
       "    }\n",
       "</style>\n",
       "<table border=\"1\" class=\"dataframe\">\n",
       "  <thead>\n",
       "    <tr style=\"text-align: right;\">\n",
       "      <th></th>\n",
       "      <th>mean radius</th>\n",
       "      <th>mean texture</th>\n",
       "      <th>mean perimeter</th>\n",
       "      <th>mean area</th>\n",
       "      <th>mean smoothness</th>\n",
       "      <th>mean compactness</th>\n",
       "      <th>mean concavity</th>\n",
       "      <th>mean concave points</th>\n",
       "      <th>mean symmetry</th>\n",
       "      <th>mean fractal dimension</th>\n",
       "      <th>...</th>\n",
       "      <th>worst texture</th>\n",
       "      <th>worst perimeter</th>\n",
       "      <th>worst area</th>\n",
       "      <th>worst smoothness</th>\n",
       "      <th>worst compactness</th>\n",
       "      <th>worst concavity</th>\n",
       "      <th>worst concave points</th>\n",
       "      <th>worst symmetry</th>\n",
       "      <th>worst fractal dimension</th>\n",
       "      <th>target</th>\n",
       "    </tr>\n",
       "  </thead>\n",
       "  <tbody>\n",
       "    <tr>\n",
       "      <th>0</th>\n",
       "      <td>17.99</td>\n",
       "      <td>10.38</td>\n",
       "      <td>122.80</td>\n",
       "      <td>1001.0</td>\n",
       "      <td>0.11840</td>\n",
       "      <td>0.27760</td>\n",
       "      <td>0.3001</td>\n",
       "      <td>0.14710</td>\n",
       "      <td>0.2419</td>\n",
       "      <td>0.07871</td>\n",
       "      <td>...</td>\n",
       "      <td>17.33</td>\n",
       "      <td>184.60</td>\n",
       "      <td>2019.0</td>\n",
       "      <td>0.1622</td>\n",
       "      <td>0.6656</td>\n",
       "      <td>0.7119</td>\n",
       "      <td>0.2654</td>\n",
       "      <td>0.4601</td>\n",
       "      <td>0.11890</td>\n",
       "      <td>0</td>\n",
       "    </tr>\n",
       "    <tr>\n",
       "      <th>1</th>\n",
       "      <td>20.57</td>\n",
       "      <td>17.77</td>\n",
       "      <td>132.90</td>\n",
       "      <td>1326.0</td>\n",
       "      <td>0.08474</td>\n",
       "      <td>0.07864</td>\n",
       "      <td>0.0869</td>\n",
       "      <td>0.07017</td>\n",
       "      <td>0.1812</td>\n",
       "      <td>0.05667</td>\n",
       "      <td>...</td>\n",
       "      <td>23.41</td>\n",
       "      <td>158.80</td>\n",
       "      <td>1956.0</td>\n",
       "      <td>0.1238</td>\n",
       "      <td>0.1866</td>\n",
       "      <td>0.2416</td>\n",
       "      <td>0.1860</td>\n",
       "      <td>0.2750</td>\n",
       "      <td>0.08902</td>\n",
       "      <td>0</td>\n",
       "    </tr>\n",
       "    <tr>\n",
       "      <th>2</th>\n",
       "      <td>19.69</td>\n",
       "      <td>21.25</td>\n",
       "      <td>130.00</td>\n",
       "      <td>1203.0</td>\n",
       "      <td>0.10960</td>\n",
       "      <td>0.15990</td>\n",
       "      <td>0.1974</td>\n",
       "      <td>0.12790</td>\n",
       "      <td>0.2069</td>\n",
       "      <td>0.05999</td>\n",
       "      <td>...</td>\n",
       "      <td>25.53</td>\n",
       "      <td>152.50</td>\n",
       "      <td>1709.0</td>\n",
       "      <td>0.1444</td>\n",
       "      <td>0.4245</td>\n",
       "      <td>0.4504</td>\n",
       "      <td>0.2430</td>\n",
       "      <td>0.3613</td>\n",
       "      <td>0.08758</td>\n",
       "      <td>0</td>\n",
       "    </tr>\n",
       "    <tr>\n",
       "      <th>3</th>\n",
       "      <td>11.42</td>\n",
       "      <td>20.38</td>\n",
       "      <td>77.58</td>\n",
       "      <td>386.1</td>\n",
       "      <td>0.14250</td>\n",
       "      <td>0.28390</td>\n",
       "      <td>0.2414</td>\n",
       "      <td>0.10520</td>\n",
       "      <td>0.2597</td>\n",
       "      <td>0.09744</td>\n",
       "      <td>...</td>\n",
       "      <td>26.50</td>\n",
       "      <td>98.87</td>\n",
       "      <td>567.7</td>\n",
       "      <td>0.2098</td>\n",
       "      <td>0.8663</td>\n",
       "      <td>0.6869</td>\n",
       "      <td>0.2575</td>\n",
       "      <td>0.6638</td>\n",
       "      <td>0.17300</td>\n",
       "      <td>0</td>\n",
       "    </tr>\n",
       "    <tr>\n",
       "      <th>4</th>\n",
       "      <td>20.29</td>\n",
       "      <td>14.34</td>\n",
       "      <td>135.10</td>\n",
       "      <td>1297.0</td>\n",
       "      <td>0.10030</td>\n",
       "      <td>0.13280</td>\n",
       "      <td>0.1980</td>\n",
       "      <td>0.10430</td>\n",
       "      <td>0.1809</td>\n",
       "      <td>0.05883</td>\n",
       "      <td>...</td>\n",
       "      <td>16.67</td>\n",
       "      <td>152.20</td>\n",
       "      <td>1575.0</td>\n",
       "      <td>0.1374</td>\n",
       "      <td>0.2050</td>\n",
       "      <td>0.4000</td>\n",
       "      <td>0.1625</td>\n",
       "      <td>0.2364</td>\n",
       "      <td>0.07678</td>\n",
       "      <td>0</td>\n",
       "    </tr>\n",
       "  </tbody>\n",
       "</table>\n",
       "<p>5 rows × 31 columns</p>\n",
       "</div>"
      ],
      "text/plain": [
       "   mean radius  mean texture  mean perimeter  mean area  mean smoothness  \\\n",
       "0        17.99         10.38          122.80     1001.0          0.11840   \n",
       "1        20.57         17.77          132.90     1326.0          0.08474   \n",
       "2        19.69         21.25          130.00     1203.0          0.10960   \n",
       "3        11.42         20.38           77.58      386.1          0.14250   \n",
       "4        20.29         14.34          135.10     1297.0          0.10030   \n",
       "\n",
       "   mean compactness  mean concavity  mean concave points  mean symmetry  \\\n",
       "0           0.27760          0.3001              0.14710         0.2419   \n",
       "1           0.07864          0.0869              0.07017         0.1812   \n",
       "2           0.15990          0.1974              0.12790         0.2069   \n",
       "3           0.28390          0.2414              0.10520         0.2597   \n",
       "4           0.13280          0.1980              0.10430         0.1809   \n",
       "\n",
       "   mean fractal dimension  ...  worst texture  worst perimeter  worst area  \\\n",
       "0                 0.07871  ...          17.33           184.60      2019.0   \n",
       "1                 0.05667  ...          23.41           158.80      1956.0   \n",
       "2                 0.05999  ...          25.53           152.50      1709.0   \n",
       "3                 0.09744  ...          26.50            98.87       567.7   \n",
       "4                 0.05883  ...          16.67           152.20      1575.0   \n",
       "\n",
       "   worst smoothness  worst compactness  worst concavity  worst concave points  \\\n",
       "0            0.1622             0.6656           0.7119                0.2654   \n",
       "1            0.1238             0.1866           0.2416                0.1860   \n",
       "2            0.1444             0.4245           0.4504                0.2430   \n",
       "3            0.2098             0.8663           0.6869                0.2575   \n",
       "4            0.1374             0.2050           0.4000                0.1625   \n",
       "\n",
       "   worst symmetry  worst fractal dimension  target  \n",
       "0          0.4601                  0.11890       0  \n",
       "1          0.2750                  0.08902       0  \n",
       "2          0.3613                  0.08758       0  \n",
       "3          0.6638                  0.17300       0  \n",
       "4          0.2364                  0.07678       0  \n",
       "\n",
       "[5 rows x 31 columns]"
      ]
     },
     "execution_count": 3,
     "metadata": {},
     "output_type": "execute_result"
    }
   ],
   "source": [
    "# To load the dataset\n",
    "data = load_breast_cancer()\n",
    "df = pd.DataFrame(data.data, columns=data.feature_names)\n",
    "df['target'] = pd.Series(data.target,name='target')\n",
    "\n",
    "df.head()"
   ]
  },
  {
   "cell_type": "code",
   "execution_count": 5,
   "id": "41e6b9f7-04f8-45ff-9fbb-3a045691619b",
   "metadata": {},
   "outputs": [
    {
     "name": "stdout",
     "output_type": "stream",
     "text": [
      "Missing values in dataset:\n",
      " mean radius                0\n",
      "mean texture               0\n",
      "mean perimeter             0\n",
      "mean area                  0\n",
      "mean smoothness            0\n",
      "mean compactness           0\n",
      "mean concavity             0\n",
      "mean concave points        0\n",
      "mean symmetry              0\n",
      "mean fractal dimension     0\n",
      "radius error               0\n",
      "texture error              0\n",
      "perimeter error            0\n",
      "area error                 0\n",
      "smoothness error           0\n",
      "compactness error          0\n",
      "concavity error            0\n",
      "concave points error       0\n",
      "symmetry error             0\n",
      "fractal dimension error    0\n",
      "worst radius               0\n",
      "worst texture              0\n",
      "worst perimeter            0\n",
      "worst area                 0\n",
      "worst smoothness           0\n",
      "worst compactness          0\n",
      "worst concavity            0\n",
      "worst concave points       0\n",
      "worst symmetry             0\n",
      "worst fractal dimension    0\n",
      "target                     0\n",
      "dtype: int64\n"
     ]
    }
   ],
   "source": [
    "# Checking for missing values\n",
    "missing_values = df.isnull().sum()\n",
    "print(\"Missing values in dataset:\\n\",missing_values)"
   ]
  },
  {
   "cell_type": "code",
   "execution_count": 7,
   "id": "750aadd4-3e56-40fe-95b1-458f337b22b1",
   "metadata": {},
   "outputs": [],
   "source": [
    "#Feature Scaling\n",
    "X = df.drop('target', axis=1)\n",
    "y = df['target']\n",
    "\n",
    "# Standardize the features\n",
    "scaler = StandardScaler()\n",
    "X_scaled = scaler.fit_transform(X)\n",
    "\n",
    "#Train-test split\n",
    "X_train, X_test, y_train, y_test = train_test_split(X_scaled, y, test_size=0.2, random_state=42)"
   ]
  },
  {
   "cell_type": "markdown",
   "id": "d491ca6c-2783-4472-95ff-673aaf546266",
   "metadata": {},
   "source": [
    "Explanation of Preprocessing Steps"
   ]
  },
  {
   "cell_type": "markdown",
   "id": "5c79c495-fa4f-42b7-9a9b-6ed63d8a57bc",
   "metadata": {},
   "source": [
    "Before applying any machine learning models, it is essential to inspect the dataset for missing values. Missing data can lead to incorrect model training or failure during execution since most machine learning algorithms cannot handle missing values directly.Here, there were no missing values in the dataset,so no imputation is necessary.However, this step is a standard and important part of any data preprocessing steps.\n",
    "\n",
    "This dataset have different units and ranges,which can negatively impact model performance.To address this, we applied standardization technique.Standardizing feature values to bring all features to the same scale and improve model performance.StandardScaler was used to bring all features to the same scale (mean=0, std=1), which is essential for algorithms like SVM and k-NN.\n",
    "\n",
    "These preprocessing steps are essential for accurate machine learning models, particularly in supervised learning tasks involving classification."
   ]
  },
  {
   "cell_type": "markdown",
   "id": "6d656903-67c4-45c0-a291-f12117165544",
   "metadata": {},
   "source": [
    "# 2.Classification Algorithm Implementation"
   ]
  },
  {
   "cell_type": "code",
   "execution_count": 9,
   "id": "508f0d67-08da-4956-ba10-eb044ecfa3cb",
   "metadata": {},
   "outputs": [],
   "source": [
    "from sklearn.metrics import accuracy_score, precision_score, recall_score, f1_score, confusion_matrix\n",
    "\n",
    "def evaluate_model(y_true, y_pred):\n",
    "    return {\n",
    "        'Accuracy': accuracy_score(y_true, y_pred),\n",
    "        'Precision': precision_score(y_true, y_pred),\n",
    "        'Recall': recall_score(y_true, y_pred),\n",
    "        'F1 Score': f1_score(y_true, y_pred)\n",
    "    }"
   ]
  },
  {
   "cell_type": "markdown",
   "id": "337b01af-c052-4601-b834-831b4ba959e4",
   "metadata": {},
   "source": [
    "1.Logistic Regression"
   ]
  },
  {
   "cell_type": "code",
   "execution_count": 11,
   "id": "e039f8d2-bb4f-4fc2-a233-ad0625d13afe",
   "metadata": {},
   "outputs": [
    {
     "data": {
      "text/plain": [
       "{'Accuracy': 0.9736842105263158,\n",
       " 'Precision': 0.9722222222222222,\n",
       " 'Recall': 0.9859154929577465,\n",
       " 'F1 Score': 0.9790209790209791}"
      ]
     },
     "execution_count": 11,
     "metadata": {},
     "output_type": "execute_result"
    }
   ],
   "source": [
    "from sklearn.linear_model import LogisticRegression\n",
    "\n",
    "lr = LogisticRegression()\n",
    "lr.fit(X_train, y_train)\n",
    "y_pred_lr = lr.predict(X_test)\n",
    "\n",
    "evaluate_model(y_test, y_pred_lr)"
   ]
  },
  {
   "cell_type": "markdown",
   "id": "fe1c7ce8-5be4-40c9-9161-9162679b9bfd",
   "metadata": {},
   "source": [
    "How it works:\n",
    "\n",
    "Logistic Regression is a linear model used for binary classification.It calculates the probability of class membership using the logistic (sigmoid) function, and applies a decision threshold (typically 0.5) to assign a class label.\n",
    "\n",
    "Why Suitable:\n",
    "\n",
    "1.Simple and effective for binary classification.\n",
    "\n",
    "2.Provides interpretable results (feature coefficients).\n",
    "\n",
    "3.Performs well when the relationship between input variables and the target is approximately linear."
   ]
  },
  {
   "cell_type": "code",
   "execution_count": null,
   "id": "8d4b5dd7-5dda-4c2d-8153-b77abd6f16e3",
   "metadata": {},
   "outputs": [],
   "source": []
  },
  {
   "cell_type": "markdown",
   "id": "10b1c8c1-2706-4975-be21-e1ae5a4252fa",
   "metadata": {},
   "source": [
    "2.Decision Tree Classifier"
   ]
  },
  {
   "cell_type": "code",
   "execution_count": 13,
   "id": "e418dc78-21c7-4937-adfd-0aa2ba5d46ce",
   "metadata": {},
   "outputs": [
    {
     "data": {
      "text/plain": [
       "{'Accuracy': 0.9473684210526315,\n",
       " 'Precision': 0.9577464788732394,\n",
       " 'Recall': 0.9577464788732394,\n",
       " 'F1 Score': 0.9577464788732394}"
      ]
     },
     "execution_count": 13,
     "metadata": {},
     "output_type": "execute_result"
    }
   ],
   "source": [
    "from sklearn.tree import DecisionTreeClassifier\n",
    "\n",
    "dt = DecisionTreeClassifier(random_state=42)\n",
    "dt.fit(X_train, y_train)\n",
    "y_pred_dt = dt.predict(X_test)\n",
    "\n",
    "evaluate_model(y_test, y_pred_dt)"
   ]
  },
  {
   "cell_type": "markdown",
   "id": "c6210a9b-a6e5-492f-9e4b-7cec8c7f4d52",
   "metadata": {},
   "source": [
    "How It Works:\n",
    "\n",
    "Decision Trees use a flowchart-like tree structure to split the dataset into subsets based on feature values.The goal is to maximize information gain (or minimize Gini impurity or entropy) at each split.\n",
    "\n",
    "Why Suitable:\n",
    "\n",
    "1.Captures complex nonlinear relationships.\n",
    "\n",
    "2.No need for feature scaling.\n",
    "\n",
    "3.Easy to visualize and interpret."
   ]
  },
  {
   "cell_type": "code",
   "execution_count": null,
   "id": "d7fa6394-9e9f-4f2d-b89f-3dfd35d2f06a",
   "metadata": {},
   "outputs": [],
   "source": []
  },
  {
   "cell_type": "markdown",
   "id": "9f1f438a-b258-4dfc-9167-6b21ef03d701",
   "metadata": {},
   "source": [
    "3.Random Forest Classifier"
   ]
  },
  {
   "cell_type": "code",
   "execution_count": 15,
   "id": "058240d1-ed3d-4fbd-815f-8e32be13b444",
   "metadata": {},
   "outputs": [
    {
     "data": {
      "text/plain": [
       "{'Accuracy': 0.9649122807017544,\n",
       " 'Precision': 0.958904109589041,\n",
       " 'Recall': 0.9859154929577465,\n",
       " 'F1 Score': 0.9722222222222222}"
      ]
     },
     "execution_count": 15,
     "metadata": {},
     "output_type": "execute_result"
    }
   ],
   "source": [
    "from sklearn.ensemble import RandomForestClassifier\n",
    "\n",
    "rf = RandomForestClassifier(random_state=42)\n",
    "rf.fit(X_train, y_train)\n",
    "y_pred_rf = rf.predict(X_test)\n",
    "\n",
    "evaluate_model(y_test, y_pred_rf)"
   ]
  },
  {
   "cell_type": "markdown",
   "id": "f41a1ce2-a8ce-4ba3-9496-263c91b05e7d",
   "metadata": {},
   "source": [
    "How It Works:\n",
    "\n",
    "Random Forest is an ensemble method that builds multiple Decision Trees and averages their predictions.It reduces overfitting and improves accuracy by introducing randomness in feature selection and data sampling.\n",
    "\n",
    "Why Suitable:\n",
    "\n",
    "1.Handles high-dimensional data well.\n",
    "\n",
    "2.Less prone to overfitting than a single Decision Tree.\n",
    "\n",
    "3.Provides feature importance scores."
   ]
  },
  {
   "cell_type": "code",
   "execution_count": null,
   "id": "8ce4265a-ea2d-48a8-92cc-3e848ff7962a",
   "metadata": {},
   "outputs": [],
   "source": []
  },
  {
   "cell_type": "markdown",
   "id": "2567dead-4b0c-4709-93ce-a8a9d45b447f",
   "metadata": {},
   "source": [
    "4.Support Vector Machine (SVM)"
   ]
  },
  {
   "cell_type": "code",
   "execution_count": 17,
   "id": "6eb9db03-d468-4d31-8d04-e1828566d0c4",
   "metadata": {},
   "outputs": [
    {
     "data": {
      "text/plain": [
       "{'Accuracy': 0.9736842105263158,\n",
       " 'Precision': 0.9722222222222222,\n",
       " 'Recall': 0.9859154929577465,\n",
       " 'F1 Score': 0.9790209790209791}"
      ]
     },
     "execution_count": 17,
     "metadata": {},
     "output_type": "execute_result"
    }
   ],
   "source": [
    "from sklearn.svm import SVC\n",
    "\n",
    "svm = SVC()\n",
    "svm.fit(X_train, y_train)\n",
    "y_pred_svm = svm.predict(X_test)\n",
    "\n",
    "evaluate_model(y_test, y_pred_svm)"
   ]
  },
  {
   "cell_type": "markdown",
   "id": "d653fd53-be68-4dd8-9262-174f8a60b628",
   "metadata": {},
   "source": [
    "How It Works: SVM finds the optimal hyperplane that maximizes the margin between two classes.It can use kernels (linear, RBF, etc.) to handle non-linearly separable data.\n",
    "\n",
    "Why Suitable: 1.Effective in high-dimensional spaces.\n",
    "\n",
    "2.Robust to outliers and works well with a clear margin of separation.\n",
    "\n",
    "3.RBF kernel helps model nonlinear boundaries."
   ]
  },
  {
   "cell_type": "code",
   "execution_count": null,
   "id": "47f429f5-2bcd-48d0-a680-608ec6277f84",
   "metadata": {},
   "outputs": [],
   "source": []
  },
  {
   "cell_type": "markdown",
   "id": "0cbe773f-0f4b-4b3e-836d-cc5cde00068a",
   "metadata": {},
   "source": [
    "5.K-Nearest Neighbors (K-NN)"
   ]
  },
  {
   "cell_type": "code",
   "execution_count": 19,
   "id": "6ecbd101-95ba-423f-92bc-dcfbe3b850c3",
   "metadata": {},
   "outputs": [
    {
     "data": {
      "text/plain": [
       "{'Accuracy': 0.9473684210526315,\n",
       " 'Precision': 0.9577464788732394,\n",
       " 'Recall': 0.9577464788732394,\n",
       " 'F1 Score': 0.9577464788732394}"
      ]
     },
     "execution_count": 19,
     "metadata": {},
     "output_type": "execute_result"
    }
   ],
   "source": [
    "from sklearn.neighbors import KNeighborsClassifier\n",
    "\n",
    "knn = KNeighborsClassifier()\n",
    "knn.fit(X_train, y_train)\n",
    "y_pred_knn = knn.predict(X_test)\n",
    "\n",
    "evaluate_model(y_test, y_pred_knn)"
   ]
  },
  {
   "cell_type": "markdown",
   "id": "3cdeefb2-a8b9-47ee-8b1f-52c5e10a9bc8",
   "metadata": {},
   "source": [
    "How It Works:\n",
    "\n",
    "k-NN is a non-parametric, instance-based learning algorithm.It assigns a class label based on the majority vote among the k nearest data points (based on Euclidean distance).\n",
    "\n",
    "Why Suitable:\n",
    "\n",
    "1.Simple to implement and understand.\n",
    "\n",
    "2.Effective for small to medium-sized datasets.\n",
    "\n",
    "3.Sensitive to the local structure of the data (which can be useful for medical datasets like this one)."
   ]
  },
  {
   "cell_type": "markdown",
   "id": "7d28bd9b-6211-4fe3-9e07-350c6734142e",
   "metadata": {},
   "source": [
    "# 3. Model Comparison"
   ]
  },
  {
   "cell_type": "code",
   "execution_count": 21,
   "id": "b737494b-3aa2-4a2e-82bb-c94536f24d4a",
   "metadata": {},
   "outputs": [
    {
     "data": {
      "text/html": [
       "<div>\n",
       "<style scoped>\n",
       "    .dataframe tbody tr th:only-of-type {\n",
       "        vertical-align: middle;\n",
       "    }\n",
       "\n",
       "    .dataframe tbody tr th {\n",
       "        vertical-align: top;\n",
       "    }\n",
       "\n",
       "    .dataframe thead th {\n",
       "        text-align: right;\n",
       "    }\n",
       "</style>\n",
       "<table border=\"1\" class=\"dataframe\">\n",
       "  <thead>\n",
       "    <tr style=\"text-align: right;\">\n",
       "      <th></th>\n",
       "      <th>Accuracy</th>\n",
       "      <th>Precision</th>\n",
       "      <th>Recall</th>\n",
       "      <th>F1 Score</th>\n",
       "    </tr>\n",
       "  </thead>\n",
       "  <tbody>\n",
       "    <tr>\n",
       "      <th>Logistic Regression</th>\n",
       "      <td>0.973684</td>\n",
       "      <td>0.972222</td>\n",
       "      <td>0.985915</td>\n",
       "      <td>0.979021</td>\n",
       "    </tr>\n",
       "    <tr>\n",
       "      <th>Decision Tree</th>\n",
       "      <td>0.947368</td>\n",
       "      <td>0.957746</td>\n",
       "      <td>0.957746</td>\n",
       "      <td>0.957746</td>\n",
       "    </tr>\n",
       "    <tr>\n",
       "      <th>Random Forest</th>\n",
       "      <td>0.964912</td>\n",
       "      <td>0.958904</td>\n",
       "      <td>0.985915</td>\n",
       "      <td>0.972222</td>\n",
       "    </tr>\n",
       "    <tr>\n",
       "      <th>SVM</th>\n",
       "      <td>0.973684</td>\n",
       "      <td>0.972222</td>\n",
       "      <td>0.985915</td>\n",
       "      <td>0.979021</td>\n",
       "    </tr>\n",
       "    <tr>\n",
       "      <th>k-NN</th>\n",
       "      <td>0.947368</td>\n",
       "      <td>0.957746</td>\n",
       "      <td>0.957746</td>\n",
       "      <td>0.957746</td>\n",
       "    </tr>\n",
       "  </tbody>\n",
       "</table>\n",
       "</div>"
      ],
      "text/plain": [
       "                     Accuracy  Precision    Recall  F1 Score\n",
       "Logistic Regression  0.973684   0.972222  0.985915  0.979021\n",
       "Decision Tree        0.947368   0.957746  0.957746  0.957746\n",
       "Random Forest        0.964912   0.958904  0.985915  0.972222\n",
       "SVM                  0.973684   0.972222  0.985915  0.979021\n",
       "k-NN                 0.947368   0.957746  0.957746  0.957746"
      ]
     },
     "execution_count": 21,
     "metadata": {},
     "output_type": "execute_result"
    }
   ],
   "source": [
    "results = {\n",
    "    'Logistic Regression': evaluate_model(y_test, y_pred_lr),\n",
    "    'Decision Tree': evaluate_model(y_test, y_pred_dt),\n",
    "    'Random Forest': evaluate_model(y_test, y_pred_rf),\n",
    "    'SVM': evaluate_model(y_test, y_pred_svm),\n",
    "    'k-NN': evaluate_model(y_test, y_pred_knn)\n",
    "}\n",
    "\n",
    "results_df = pd.DataFrame(results).T\n",
    "results_df"
   ]
  },
  {
   "cell_type": "markdown",
   "id": "e21e6afc-3f0c-45c9-a9dd-08b9a75de07b",
   "metadata": {},
   "source": [
    "Visualization"
   ]
  },
  {
   "cell_type": "code",
   "execution_count": null,
   "id": "2aae473f-7bf7-4807-ad37-db57eddae705",
   "metadata": {},
   "outputs": [],
   "source": []
  },
  {
   "cell_type": "code",
   "execution_count": null,
   "id": "19b63e2d-022a-4e60-b342-f7ed904209cb",
   "metadata": {},
   "outputs": [],
   "source": []
  },
  {
   "cell_type": "code",
   "execution_count": null,
   "id": "6603b7bb-32d0-4389-b068-5e173fccdf73",
   "metadata": {},
   "outputs": [],
   "source": []
  }
 ],
 "metadata": {
  "kernelspec": {
   "display_name": "Python [conda env:base] *",
   "language": "python",
   "name": "conda-base-py"
  },
  "language_info": {
   "codemirror_mode": {
    "name": "ipython",
    "version": 3
   },
   "file_extension": ".py",
   "mimetype": "text/x-python",
   "name": "python",
   "nbconvert_exporter": "python",
   "pygments_lexer": "ipython3",
   "version": "3.12.7"
  }
 },
 "nbformat": 4,
 "nbformat_minor": 5
}
